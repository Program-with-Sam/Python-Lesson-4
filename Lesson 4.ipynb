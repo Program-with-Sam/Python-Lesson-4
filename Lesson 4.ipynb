{
 "cells": [
  {
   "cell_type": "code",
   "execution_count": 1,
   "metadata": {},
   "outputs": [],
   "source": [
    "# Define a function\n",
    "def func(x):\n",
    "    return x+2\n",
    "# Use the function\n",
    "print(func(1))\n",
    "# Double function call\n",
    "print(func(func(2)))"
   ]
  },
  {
   "cell_type": "code",
   "execution_count": 6,
   "metadata": {},
   "outputs": [],
   "source": [
    "# Lambda function\n",
    "func2 = lambda x, y : x * y\n",
    "# Output\n",
    "print(func2(2,3))"
   ]
  },
  {
   "cell_type": "code",
   "execution_count": 8,
   "metadata": {},
   "outputs": [
    {
     "name": "stdout",
     "output_type": "stream",
     "text": [
      "4\n"
     ]
    }
   ],
   "source": [
    "# Higher order assignment\n",
    "func3 = func\n",
    "print(func3(2))"
   ]
  },
  {
   "cell_type": "code",
   "execution_count": 11,
   "metadata": {},
   "outputs": [
    {
     "name": "stdout",
     "output_type": "stream",
     "text": [
      "1.0\n"
     ]
    }
   ],
   "source": [
    "# Higher order arguments\n",
    "def func4(x):\n",
    "    return x * 2\n",
    "\n",
    "def func5(x):\n",
    "    return x / 2\n",
    "\n",
    "def temp(f,x):\n",
    "    output = f(x)\n",
    "    print(output)\n",
    "    \n",
    "temp(func5, 2)"
   ]
  },
  {
   "cell_type": "code",
   "execution_count": 12,
   "metadata": {},
   "outputs": [
    {
     "name": "stdout",
     "output_type": "stream",
     "text": [
      "15\n"
     ]
    }
   ],
   "source": [
    "# Higher order functions that build functions\n",
    "def create_adder(x):\n",
    "    def add(y):\n",
    "        return x + y\n",
    "    return add\n",
    "\n",
    "add5 = create_adder(5)\n",
    "print(add5(10))"
   ]
  },
  {
   "cell_type": "code",
   "execution_count": 14,
   "metadata": {},
   "outputs": [
    {
     "name": "stdout",
     "output_type": "stream",
     "text": [
      "[3, 4, 5, 6, 7, 8, 9, 10, 11, 12]\n"
     ]
    }
   ],
   "source": [
    "# Functional operations\n",
    "def map(f, col):\n",
    "    result = []\n",
    "    for entry in col:\n",
    "        t = f(entry)\n",
    "        result.append(t)\n",
    "    return result\n",
    "\n",
    "mylist = [1,2,3,4,5,6,7,8,9,10]\n",
    "print(map(func, mylist))"
   ]
  },
  {
   "cell_type": "code",
   "execution_count": 17,
   "metadata": {},
   "outputs": [],
   "source": [
    "# List comprehension\n",
    "mylist = [ y + y for y in range(1,11)]\n",
    "mylist"
   ]
  }
 ],
 "metadata": {
  "kernelspec": {
   "display_name": "Python 3",
   "language": "python",
   "name": "python3"
  },
  "language_info": {
   "codemirror_mode": {
    "name": "ipython",
    "version": 3
   },
   "file_extension": ".py",
   "mimetype": "text/x-python",
   "name": "python",
   "nbconvert_exporter": "python",
   "pygments_lexer": "ipython3",
   "version": "3.7.4"
  }
 },
 "nbformat": 4,
 "nbformat_minor": 2
}
